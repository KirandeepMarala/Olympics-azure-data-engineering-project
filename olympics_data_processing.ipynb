{
 "cells": [
  {
   "cell_type": "markdown",
   "metadata": {
    "application/vnd.databricks.v1+cell": {
     "cellMetadata": {
      "byteLimit": 2048000,
      "rowLimit": 10000
     },
     "inputWidgets": {},
     "nuid": "5b4c50ee-89fb-4f07-8702-9a8ec6293014",
     "showTitle": false,
     "tableResultSettingsMap": {},
     "title": ""
    }
   },
   "source": [
    "### 1: Import Necessary Libraries"
   ]
  },
  {
   "cell_type": "code",
   "execution_count": 0,
   "metadata": {
    "application/vnd.databricks.v1+cell": {
     "cellMetadata": {
      "byteLimit": 2048000,
      "rowLimit": 10000
     },
     "inputWidgets": {},
     "nuid": "d170eaec-0a4f-4926-8422-baf78cf6f8f9",
     "showTitle": false,
     "tableResultSettingsMap": {},
     "title": ""
    }
   },
   "outputs": [
    {
     "output_type": "stream",
     "name": "stdout",
     "output_type": "stream",
     "text": [
      "Requirement already satisfied: pycountry in /local_disk0/.ephemeral_nfs/envs/pythonEnv-a1a71da7-6dc7-4f29-b846-b973d2ccc317/lib/python3.11/site-packages (24.6.1)\n\u001B[43mNote: you may need to restart the kernel using %restart_python or dbutils.library.restartPython() to use updated packages.\u001B[0m\n"
     ]
    }
   ],
   "source": [
    "!pip install pycountry"
   ]
  },
  {
   "cell_type": "code",
   "execution_count": 0,
   "metadata": {
    "application/vnd.databricks.v1+cell": {
     "cellMetadata": {
      "byteLimit": 2048000,
      "rowLimit": 10000
     },
     "inputWidgets": {},
     "nuid": "6bcfc7ea-748c-4d6e-9d6e-6566c2a3f063",
     "showTitle": false,
     "tableResultSettingsMap": {},
     "title": ""
    }
   },
   "outputs": [],
   "source": [
    "from pyspark.sql.types import IntegerType, StringType\n",
    "from pyspark.sql.functions import when, col, udf\n",
    "import pycountry"
   ]
  },
  {
   "cell_type": "markdown",
   "metadata": {
    "application/vnd.databricks.v1+cell": {
     "cellMetadata": {
      "byteLimit": 2048000,
      "rowLimit": 10000
     },
     "inputWidgets": {},
     "nuid": "734fb7fd-30c9-483e-94eb-a4f24a4705e3",
     "showTitle": false,
     "tableResultSettingsMap": {},
     "title": ""
    }
   },
   "source": [
    "### 2: Mounting the ADLS (Storage Resource)"
   ]
  },
  {
   "cell_type": "code",
   "execution_count": 0,
   "metadata": {
    "application/vnd.databricks.v1+cell": {
     "cellMetadata": {
      "byteLimit": 2048000,
      "rowLimit": 10000
     },
     "inputWidgets": {},
     "nuid": "f7bf73ae-ac1e-4043-a76a-9cacc7f9dc44",
     "showTitle": false,
     "tableResultSettingsMap": {},
     "title": ""
    }
   },
   "outputs": [
    {
     "output_type": "execute_result",
     "data": {
      "text/html": [
       "\n",
       "            <div>\n",
       "                <p><b>SparkSession - hive</b></p>\n",
       "                \n",
       "        <div>\n",
       "            <p><b>SparkContext</b></p>\n",
       "\n",
       "            <p><a href=\"/?o=332499026284788#setting/sparkui/0118-040237-awhjz77p/driver-5811921242582154892\">Spark UI</a></p>\n",
       "\n",
       "            <dl>\n",
       "              <dt>Version</dt>\n",
       "                <dd><code>v3.5.0</code></dd>\n",
       "              <dt>Master</dt>\n",
       "                <dd><code>local[*, 4]</code></dd>\n",
       "              <dt>AppName</dt>\n",
       "                <dd><code>Databricks Shell</code></dd>\n",
       "            </dl>\n",
       "        </div>\n",
       "        \n",
       "            </div>\n",
       "        "
      ],
      "text/plain": [
       "<pyspark.sql.session.SparkSession at 0x7ff5ec1e4150>"
      ]
     },
     "execution_count": 5,
     "metadata": {},
     "output_type": "execute_result"
    }
   ],
   "source": [
    "spark"
   ]
  },
  {
   "cell_type": "code",
   "execution_count": 0,
   "metadata": {
    "application/vnd.databricks.v1+cell": {
     "cellMetadata": {
      "byteLimit": 2048000,
      "rowLimit": 10000
     },
     "inputWidgets": {},
     "nuid": "5bdcd263-6ad2-4733-8a59-22f4cf0b2ceb",
     "showTitle": false,
     "tableResultSettingsMap": {},
     "title": ""
    }
   },
   "outputs": [
    {
     "output_type": "stream",
     "name": "stdout",
     "output_type": "stream",
     "text": [
      "Secret Name: adls-access-key\n"
     ]
    }
   ],
   "source": [
    "scope_name = 'olympic-secret-kv'\n",
    "\n",
    "try:\n",
    "    secrets_list = dbutils.secrets.list(scope_name)\n",
    "    for secret in secrets_list:\n",
    "        print(f\"Secret Name: {secret.key}\")\n",
    "except Exception as e:\n",
    "    print(f\"Error: {e}\")\n"
   ]
  },
  {
   "cell_type": "code",
   "execution_count": 0,
   "metadata": {
    "application/vnd.databricks.v1+cell": {
     "cellMetadata": {
      "byteLimit": 2048000,
      "rowLimit": 10000
     },
     "inputWidgets": {},
     "nuid": "b793381c-e7ee-403f-8f9d-754ef78db082",
     "showTitle": false,
     "tableResultSettingsMap": {},
     "title": ""
    }
   },
   "outputs": [
    {
     "output_type": "stream",
     "name": "stdout",
     "output_type": "stream",
     "text": [
      "Already Mounted /mnt/tokyo-olympics-data\n"
     ]
    }
   ],
   "source": [
    "storageAccountName = \"olympicsdatasa\"\n",
    "storageAccountAccessKey = dbutils.secrets.get('olymp-secret-kv', 'adls-access-key')\n",
    "container_name = \"tokyo-olympics-data\"\n",
    "\n",
    "if not any(mount.mountPoint == f\"/mnt/{container_name}\" for mount in dbutils.fs.mounts()):\n",
    "    try:\n",
    "            dbutils.fs.mount(\n",
    "            source = \"wasbs://{}@{}.blob.core.windows.net\".format(container_name, storageAccountName),\n",
    "            mount_point = f\"/mnt/{container_name}\",\n",
    "            extra_configs = {'fs.azure.account.key.' + storageAccountName + '.blob.core.windows.net': storageAccountAccessKey}\n",
    "            )\n",
    "            print(f\"{container_name} mount succeeded!\")\n",
    "    except Exception as e:\n",
    "        print(\"mount exception\", e)\n",
    "else:\n",
    "    print(\"Already Mounted\", f\"/mnt/{container_name}\")"
   ]
  },
  {
   "cell_type": "code",
   "execution_count": 0,
   "metadata": {
    "application/vnd.databricks.v1+cell": {
     "cellMetadata": {
      "byteLimit": 2048000,
      "rowLimit": 10000
     },
     "inputWidgets": {},
     "nuid": "9401a37f-d1e4-435e-bbd3-af1f5251d25f",
     "showTitle": false,
     "tableResultSettingsMap": {},
     "title": ""
    }
   },
   "outputs": [
    {
     "output_type": "execute_result",
     "data": {
      "text/plain": [
       "[MountInfo(mountPoint='/databricks-datasets', source='databricks-datasets', encryptionType=''),\n",
       " MountInfo(mountPoint='/Volumes', source='UnityCatalogVolumes', encryptionType=''),\n",
       " MountInfo(mountPoint='/databricks/mlflow-tracking', source='databricks/mlflow-tracking', encryptionType=''),\n",
       " MountInfo(mountPoint='/mnt/tokyo-olympics-data', source='wasbs://tokyo-olympics-data@olympicsdatasa.blob.core.windows.net', encryptionType=''),\n",
       " MountInfo(mountPoint='/databricks-results', source='databricks-results', encryptionType=''),\n",
       " MountInfo(mountPoint='/databricks/mlflow-registry', source='databricks/mlflow-registry', encryptionType=''),\n",
       " MountInfo(mountPoint='/Volume', source='DbfsReserved', encryptionType=''),\n",
       " MountInfo(mountPoint='/volumes', source='DbfsReserved', encryptionType=''),\n",
       " MountInfo(mountPoint='/', source='DatabricksRoot', encryptionType=''),\n",
       " MountInfo(mountPoint='/volume', source='DbfsReserved', encryptionType='')]"
      ]
     },
     "execution_count": 8,
     "metadata": {},
     "output_type": "execute_result"
    }
   ],
   "source": [
    "dbutils.fs.mounts()"
   ]
  },
  {
   "cell_type": "code",
   "execution_count": 0,
   "metadata": {
    "application/vnd.databricks.v1+cell": {
     "cellMetadata": {
      "byteLimit": 2048000,
      "rowLimit": 10000
     },
     "inputWidgets": {},
     "nuid": "56d6a95b-46b1-42ce-805d-b1aa3dedbc26",
     "showTitle": false,
     "tableResultSettingsMap": {},
     "title": ""
    }
   },
   "outputs": [
    {
     "output_type": "display_data",
     "data": {
      "text/html": [
       "<style scoped>\n",
       "  .table-result-container {\n",
       "    max-height: 300px;\n",
       "    overflow: auto;\n",
       "  }\n",
       "  table, th, td {\n",
       "    border: 1px solid black;\n",
       "    border-collapse: collapse;\n",
       "  }\n",
       "  th, td {\n",
       "    padding: 5px;\n",
       "  }\n",
       "  th {\n",
       "    text-align: left;\n",
       "  }\n",
       "</style><div class='table-result-container'><table class='table-result'><thead style='background-color: white'><tr><th>path</th><th>name</th><th>size</th><th>modificationTime</th></tr></thead><tbody><tr><td>dbfs:/mnt/tokyo-olympics-data/raw-data/Athletes.csv</td><td>Athletes.csv</td><td>418514</td><td>1737435934000</td></tr><tr><td>dbfs:/mnt/tokyo-olympics-data/raw-data/Coaches.csv</td><td>Coaches.csv</td><td>16893</td><td>1737435948000</td></tr><tr><td>dbfs:/mnt/tokyo-olympics-data/raw-data/EntriesGender.csv</td><td>EntriesGender.csv</td><td>1126</td><td>1737435986000</td></tr><tr><td>dbfs:/mnt/tokyo-olympics-data/raw-data/Medals.csv</td><td>Medals.csv</td><td>2414</td><td>1737436001000</td></tr><tr><td>dbfs:/mnt/tokyo-olympics-data/raw-data/Teams.csv</td><td>Teams.csv</td><td>35303</td><td>1737436018000</td></tr></tbody></table></div>"
      ]
     },
     "metadata": {
      "application/vnd.databricks.v1+output": {
       "addedWidgets": {},
       "aggData": [],
       "aggError": "",
       "aggOverflow": false,
       "aggSchema": [],
       "aggSeriesLimitReached": false,
       "aggType": "",
       "arguments": {},
       "columnCustomDisplayInfos": {},
       "data": [
        [
         "dbfs:/mnt/tokyo-olympics-data/raw-data/Athletes.csv",
         "Athletes.csv",
         418514,
         1737435934000
        ],
        [
         "dbfs:/mnt/tokyo-olympics-data/raw-data/Coaches.csv",
         "Coaches.csv",
         16893,
         1737435948000
        ],
        [
         "dbfs:/mnt/tokyo-olympics-data/raw-data/EntriesGender.csv",
         "EntriesGender.csv",
         1126,
         1737435986000
        ],
        [
         "dbfs:/mnt/tokyo-olympics-data/raw-data/Medals.csv",
         "Medals.csv",
         2414,
         1737436001000
        ],
        [
         "dbfs:/mnt/tokyo-olympics-data/raw-data/Teams.csv",
         "Teams.csv",
         35303,
         1737436018000
        ]
       ],
       "datasetInfos": [],
       "dbfsResultPath": null,
       "isJsonSchema": true,
       "metadata": {},
       "overflow": false,
       "plotOptions": {
        "customPlotOptions": {},
        "displayType": "table",
        "pivotAggregation": null,
        "pivotColumns": null,
        "xColumns": null,
        "yColumns": null
       },
       "removedWidgets": [],
       "schema": [
        {
         "metadata": "{}",
         "name": "path",
         "type": "\"string\""
        },
        {
         "metadata": "{}",
         "name": "name",
         "type": "\"string\""
        },
        {
         "metadata": "{}",
         "name": "size",
         "type": "\"long\""
        },
        {
         "metadata": "{}",
         "name": "modificationTime",
         "type": "\"long\""
        }
       ],
       "type": "table"
      }
     },
     "output_type": "display_data"
    }
   ],
   "source": [
    "%python\n",
    "%fs ls \"/mnt/tokyo-olympics-data/raw-data/\""
   ]
  },
  {
   "cell_type": "markdown",
   "metadata": {
    "application/vnd.databricks.v1+cell": {
     "cellMetadata": {
      "byteLimit": 2048000,
      "rowLimit": 10000
     },
     "inputWidgets": {},
     "nuid": "e1105761-0d92-464c-a4ad-8ddd35d8ebae",
     "showTitle": false,
     "tableResultSettingsMap": {},
     "title": ""
    }
   },
   "source": [
    "### 3: Read the data"
   ]
  },
  {
   "cell_type": "markdown",
   "metadata": {
    "application/vnd.databricks.v1+cell": {
     "cellMetadata": {
      "byteLimit": 2048000,
      "rowLimit": 10000
     },
     "inputWidgets": {},
     "nuid": "7585cb1f-11d1-43e1-92bd-b980066cfc7f",
     "showTitle": false,
     "tableResultSettingsMap": {},
     "title": ""
    }
   },
   "source": [
    "- **Athletes**"
   ]
  },
  {
   "cell_type": "code",
   "execution_count": 0,
   "metadata": {
    "application/vnd.databricks.v1+cell": {
     "cellMetadata": {
      "byteLimit": 2048000,
      "rowLimit": 10000
     },
     "inputWidgets": {},
     "nuid": "cab61f2c-2c73-4e7f-9549-8d88e093f4ab",
     "showTitle": false,
     "tableResultSettingsMap": {},
     "title": ""
    }
   },
   "outputs": [
    {
     "output_type": "stream",
     "name": "stdout",
     "output_type": "stream",
     "text": [
      "**************************************************\nNumber of rows:  11085\n**************************************************\nDatatypes\nroot\n |-- Name: string (nullable = true)\n |-- NOC: string (nullable = true)\n |-- Discipline: string (nullable = true)\n\nNone\n**************************************************\n+-----------------+------+-------------------+\n|             Name|   NOC|         Discipline|\n+-----------------+------+-------------------+\n|  AALERUD Katrine|Norway|       Cycling Road|\n|      ABAD Nestor| Spain|Artistic Gymnastics|\n|ABAGNALE Giovanni| Italy|             Rowing|\n|   ABALDE Alberto| Spain|         Basketball|\n|    ABALDE Tamara| Spain|         Basketball|\n+-----------------+------+-------------------+\nonly showing top 5 rows\n\n"
     ]
    }
   ],
   "source": [
    "df_athlets = spark.read.format(\"csv\").option(\"header\", \"true\").load(\"dbfs:/mnt/tokyo-olympics-data/raw-data/Athletes.csv\")\n",
    "print('*' * 50)\n",
    "print(\"Number of rows: \", df_athlets.count())\n",
    "print('*' * 50)\n",
    "print(\"Datatypes\")\n",
    "print(df_athlets.printSchema())\n",
    "print('*' * 50)\n",
    "df_athlets.show(5)"
   ]
  },
  {
   "cell_type": "markdown",
   "metadata": {
    "application/vnd.databricks.v1+cell": {
     "cellMetadata": {
      "byteLimit": 2048000,
      "rowLimit": 10000
     },
     "inputWidgets": {},
     "nuid": "812c398e-ae4f-47c7-9380-2a77d8985030",
     "showTitle": false,
     "tableResultSettingsMap": {},
     "title": ""
    }
   },
   "source": [
    "**Coaches**"
   ]
  },
  {
   "cell_type": "code",
   "execution_count": 0,
   "metadata": {
    "application/vnd.databricks.v1+cell": {
     "cellMetadata": {
      "byteLimit": 2048000,
      "rowLimit": 10000
     },
     "inputWidgets": {},
     "nuid": "90589d5e-d882-4c8a-b4ff-f71aca03886f",
     "showTitle": false,
     "tableResultSettingsMap": {},
     "title": ""
    }
   },
   "outputs": [
    {
     "output_type": "stream",
     "name": "stdout",
     "output_type": "stream",
     "text": [
      "**************************************************\nNumber of rows:  394\n**************************************************\nDatatypes\nroot\n |-- Name: string (nullable = true)\n |-- NOC: string (nullable = true)\n |-- Discipline: string (nullable = true)\n |-- Event: string (nullable = true)\n\nNone\n**************************************************\n+---------------+-------------+----------+-----+\n|           Name|          NOC|Discipline|Event|\n+---------------+-------------+----------+-----+\n|ABDELMAGID Wael|        Egypt|  Football| NULL|\n|      ABE Junya|        Japan|Volleyball| NULL|\n|  ABE Katsuhiko|        Japan|Basketball| NULL|\n|   ADAMA Cherif|Côte d'Ivoire|  Football| NULL|\n|     AGEBA Yuya|        Japan|Volleyball| NULL|\n+---------------+-------------+----------+-----+\nonly showing top 5 rows\n\n"
     ]
    }
   ],
   "source": [
    "df_coaches = spark.read.format(\"csv\").option(\"header\", \"true\").load(\"dbfs:/mnt/tokyo-olympics-data/raw-data/Coaches.csv\")\n",
    "print('*' * 50)\n",
    "print(\"Number of rows: \", df_coaches.count())\n",
    "print('*' * 50)\n",
    "print(\"Datatypes\")\n",
    "print(df_coaches.printSchema())\n",
    "print('*' * 50)\n",
    "df_coaches.show(5)"
   ]
  },
  {
   "cell_type": "markdown",
   "metadata": {
    "application/vnd.databricks.v1+cell": {
     "cellMetadata": {
      "byteLimit": 2048000,
      "rowLimit": 10000
     },
     "inputWidgets": {},
     "nuid": "9a899f64-d6f4-4af7-9c12-840466406f8c",
     "showTitle": false,
     "tableResultSettingsMap": {},
     "title": ""
    }
   },
   "source": [
    "**EntriesGender**"
   ]
  },
  {
   "cell_type": "code",
   "execution_count": 0,
   "metadata": {
    "application/vnd.databricks.v1+cell": {
     "cellMetadata": {
      "byteLimit": 2048000,
      "rowLimit": 10000
     },
     "inputWidgets": {},
     "nuid": "b474ac15-c462-4068-90dc-c2b94a140009",
     "showTitle": false,
     "tableResultSettingsMap": {},
     "title": ""
    }
   },
   "outputs": [
    {
     "output_type": "stream",
     "name": "stdout",
     "output_type": "stream",
     "text": [
      "**************************************************\nNumber of rows:  46\n**************************************************\nDatatypes\nroot\n |-- Discipline: string (nullable = true)\n |-- Female: string (nullable = true)\n |-- Male: string (nullable = true)\n |-- Total: string (nullable = true)\n\nNone\n**************************************************\n+-------------------+------+----+-----+\n|         Discipline|Female|Male|Total|\n+-------------------+------+----+-----+\n|     3x3 Basketball|    32|  32|   64|\n|            Archery|    64|  64|  128|\n|Artistic Gymnastics|    98|  98|  196|\n|  Artistic Swimming|   105|   0|  105|\n|          Athletics|   969|1072| 2041|\n+-------------------+------+----+-----+\nonly showing top 5 rows\n\n"
     ]
    }
   ],
   "source": [
    "df_entry_gender= spark.read.format(\"csv\").option(\"header\", \"true\").load(\"dbfs:/mnt/tokyo-olympics-data/raw-data/EntriesGender.csv\")\n",
    "print('*' * 50)\n",
    "print(\"Number of rows: \", df_entry_gender.count())\n",
    "print('*' * 50)\n",
    "print(\"Datatypes\")\n",
    "print(df_entry_gender.printSchema())\n",
    "print('*' * 50)\n",
    "df_entry_gender.show(5)"
   ]
  },
  {
   "cell_type": "markdown",
   "metadata": {
    "application/vnd.databricks.v1+cell": {
     "cellMetadata": {
      "byteLimit": 2048000,
      "rowLimit": 10000
     },
     "inputWidgets": {},
     "nuid": "2206cbac-ba54-4ff5-90ab-b0411934fea3",
     "showTitle": false,
     "tableResultSettingsMap": {},
     "title": ""
    }
   },
   "source": [
    "**Medals**"
   ]
  },
  {
   "cell_type": "code",
   "execution_count": 0,
   "metadata": {
    "application/vnd.databricks.v1+cell": {
     "cellMetadata": {
      "byteLimit": 2048000,
      "rowLimit": 10000
     },
     "inputWidgets": {},
     "nuid": "2358e9bf-e882-476d-abc7-db29ac70b1d5",
     "showTitle": false,
     "tableResultSettingsMap": {},
     "title": ""
    }
   },
   "outputs": [
    {
     "output_type": "stream",
     "name": "stdout",
     "output_type": "stream",
     "text": [
      "**************************************************\nNumber of rows:  93\n**************************************************\nDatatypes\nroot\n |-- Rank: string (nullable = true)\n |-- Team/NOC: string (nullable = true)\n |-- Gold: string (nullable = true)\n |-- Silver: string (nullable = true)\n |-- Bronze: string (nullable = true)\n |-- Total: string (nullable = true)\n |-- Rank by Total: string (nullable = true)\n\nNone\n**************************************************\n+----+--------------------+----+------+------+-----+-------------+\n|Rank|            Team/NOC|Gold|Silver|Bronze|Total|Rank by Total|\n+----+--------------------+----+------+------+-----+-------------+\n|   1|United States of ...|  39|    41|    33|  113|            1|\n|   2|People's Republic...|  38|    32|    18|   88|            2|\n|   3|               Japan|  27|    14|    17|   58|            5|\n|   4|       Great Britain|  22|    21|    22|   65|            4|\n|   5|                 ROC|  20|    28|    23|   71|            3|\n+----+--------------------+----+------+------+-----+-------------+\nonly showing top 5 rows\n\n"
     ]
    }
   ],
   "source": [
    "df_medals = spark.read.format(\"csv\").option(\"header\", \"true\").load(\"dbfs:/mnt/tokyo-olympics-data/raw-data/Medals.csv\")\n",
    "print('*' * 50)\n",
    "print(\"Number of rows: \", df_medals.count())\n",
    "print('*' * 50)\n",
    "print(\"Datatypes\")\n",
    "print(df_medals.printSchema())\n",
    "print('*' * 50)\n",
    "df_medals.show(5)"
   ]
  },
  {
   "cell_type": "markdown",
   "metadata": {
    "application/vnd.databricks.v1+cell": {
     "cellMetadata": {
      "byteLimit": 2048000,
      "rowLimit": 10000
     },
     "inputWidgets": {},
     "nuid": "513d3eb4-8573-49f0-aab5-1525a5fdd58b",
     "showTitle": false,
     "tableResultSettingsMap": {},
     "title": ""
    }
   },
   "source": [
    "**Teams**"
   ]
  },
  {
   "cell_type": "code",
   "execution_count": 0,
   "metadata": {
    "application/vnd.databricks.v1+cell": {
     "cellMetadata": {
      "byteLimit": 2048000,
      "rowLimit": 10000
     },
     "inputWidgets": {},
     "nuid": "4223ec26-6fc0-478d-9752-d8e0f1930646",
     "showTitle": false,
     "tableResultSettingsMap": {},
     "title": ""
    }
   },
   "outputs": [
    {
     "output_type": "stream",
     "name": "stdout",
     "output_type": "stream",
     "text": [
      "**************************************************\nNumber of rows:  743\n**************************************************\nDatatypes\nroot\n |-- Name: string (nullable = true)\n |-- Discipline: string (nullable = true)\n |-- NOC: string (nullable = true)\n |-- Event: string (nullable = true)\n\nNone\n**************************************************\n+-------+--------------+--------------------+-----+\n|   Name|    Discipline|                 NOC|Event|\n+-------+--------------+--------------------+-----+\n|Belgium|3x3 Basketball|             Belgium|  Men|\n|  China|3x3 Basketball|People's Republic...|  Men|\n|  China|3x3 Basketball|People's Republic...|Women|\n| France|3x3 Basketball|              France|Women|\n|  Italy|3x3 Basketball|               Italy|Women|\n+-------+--------------+--------------------+-----+\nonly showing top 5 rows\n\n"
     ]
    }
   ],
   "source": [
    "df_teams = spark.read.format(\"csv\").option(\"header\", \"true\").load(\"dbfs:/mnt/tokyo-olympics-data/raw-data/Teams.csv\")\n",
    "print('*' * 50)\n",
    "print(\"Number of rows: \", df_teams.count())\n",
    "print('*' * 50)\n",
    "print(\"Datatypes\")\n",
    "print(df_teams.printSchema())\n",
    "print('*' * 50)\n",
    "df_teams.show(5)"
   ]
  },
  {
   "cell_type": "markdown",
   "metadata": {
    "application/vnd.databricks.v1+cell": {
     "cellMetadata": {
      "byteLimit": 2048000,
      "rowLimit": 10000
     },
     "inputWidgets": {},
     "nuid": "8f585a65-31a0-4646-9357-3cb464d2443a",
     "showTitle": false,
     "tableResultSettingsMap": {},
     "title": ""
    }
   },
   "source": [
    "### 4: Transformations"
   ]
  },
  {
   "cell_type": "markdown",
   "metadata": {
    "application/vnd.databricks.v1+cell": {
     "cellMetadata": {
      "byteLimit": 2048000,
      "rowLimit": 10000
     },
     "inputWidgets": {},
     "nuid": "7773b65b-84f2-4db4-a4d7-7c5e77e25971",
     "showTitle": false,
     "tableResultSettingsMap": {},
     "title": ""
    }
   },
   "source": [
    "- <b>1. Change `Column Names`</b>"
   ]
  },
  {
   "cell_type": "code",
   "execution_count": 0,
   "metadata": {
    "application/vnd.databricks.v1+cell": {
     "cellMetadata": {
      "byteLimit": 2048000,
      "rowLimit": 10000
     },
     "inputWidgets": {},
     "nuid": "36cb3fd0-4575-43d4-9f6e-bf3d924bf232",
     "showTitle": false,
     "tableResultSettingsMap": {},
     "title": ""
    }
   },
   "outputs": [],
   "source": [
    "# Athlets\n",
    "\n",
    "df_athlets = (\n",
    "    df_athlets\n",
    "    .withColumnRenamed(\"Name\", \"athlete_name\")\n",
    "    .withColumnRenamed(\"NOC\", \"country_name\")  \n",
    "    .withColumnRenamed(\"Discipline\", \"sport\")\n",
    ")\n",
    "\n",
    "\n",
    "# Coaches\n",
    "df_coaches = (\n",
    "    df_coaches\n",
    "    .withColumnRenamed(\"Name\", \"coach_name\")\n",
    "    .withColumnRenamed(\"NOC\", \"country_name\")   \n",
    "    .withColumnRenamed(\"Discipline\", \"sport\")\n",
    "    .withColumnRenamed(\"Event\", \"event_name\")\n",
    ")\n",
    "\n",
    "\n",
    "# EntriesGender\n",
    "df_entry_gender = (\n",
    "    df_entry_gender\n",
    "    .withColumnRenamed(\"discipline\", \"sport\")\n",
    "    .withColumnRenamed(\"Female\", \"female_count\")\n",
    "    .withColumnRenamed(\"Male\", \"male_count\")\n",
    "    .withColumnRenamed(\"Total\", \"total_count\")\n",
    ")\n",
    "\n",
    "\n",
    "# Medals\n",
    "df_medals = (\n",
    "    df_medals\n",
    "    .withColumnRenamed(\"Rank\", \"rank_number\")\n",
    "    .withColumnRenamed(\"Team/NOC\", \"country_name\")  \n",
    "    .withColumnRenamed(\"Gold\", \"gold_medals\")\n",
    "    .withColumnRenamed(\"Silver\", \"silver_medals\")\n",
    "    .withColumnRenamed(\"Bronze\", \"bronze_medals\")\n",
    "    .withColumnRenamed(\"Total\", \"total_medals\")\n",
    "    .withColumnRenamed(\"Rank by Total\", \"rank_by_total_medals\")\n",
    "\n",
    ")\n",
    "\n",
    "\n",
    "# Teams\n",
    "df_teams = (\n",
    "    df_teams\n",
    "    .withColumnRenamed(\"Name\", \"team\")\n",
    "    .withColumnRenamed(\"NOC\", \"country_name\")   \n",
    "    .withColumnRenamed(\"Discipline\", \"sport\")\n",
    "    .withColumnRenamed(\"Event\", \"event_name\")\n",
    ")"
   ]
  },
  {
   "cell_type": "code",
   "execution_count": 0,
   "metadata": {
    "application/vnd.databricks.v1+cell": {
     "cellMetadata": {
      "byteLimit": 2048000,
      "rowLimit": 10000
     },
     "inputWidgets": {},
     "nuid": "f2010f65-428f-404d-b742-bd6f041f4ca7",
     "showTitle": false,
     "tableResultSettingsMap": {},
     "title": ""
    }
   },
   "outputs": [
    {
     "output_type": "stream",
     "name": "stdout",
     "output_type": "stream",
     "text": [
      "+-----------------+------------+-------------------+\n|     athlete_name|country_name|              sport|\n+-----------------+------------+-------------------+\n|  AALERUD Katrine|      Norway|       Cycling Road|\n|      ABAD Nestor|       Spain|Artistic Gymnastics|\n|ABAGNALE Giovanni|       Italy|             Rowing|\n|   ABALDE Alberto|       Spain|         Basketball|\n|    ABALDE Tamara|       Spain|         Basketball|\n+-----------------+------------+-------------------+\nonly showing top 5 rows\n\n"
     ]
    }
   ],
   "source": [
    "df_athlets.show(5)"
   ]
  },
  {
   "cell_type": "code",
   "execution_count": 0,
   "metadata": {
    "application/vnd.databricks.v1+cell": {
     "cellMetadata": {
      "byteLimit": 2048000,
      "rowLimit": 10000
     },
     "inputWidgets": {},
     "nuid": "2ff7e22b-d6ee-4e1e-a670-8455e3138b8a",
     "showTitle": false,
     "tableResultSettingsMap": {},
     "title": ""
    }
   },
   "outputs": [
    {
     "output_type": "stream",
     "name": "stdout",
     "output_type": "stream",
     "text": [
      "+---------------+-------------+----------+----------+\n|     coach_name| country_name|     sport|event_name|\n+---------------+-------------+----------+----------+\n|ABDELMAGID Wael|        Egypt|  Football|      NULL|\n|      ABE Junya|        Japan|Volleyball|      NULL|\n|  ABE Katsuhiko|        Japan|Basketball|      NULL|\n|   ADAMA Cherif|Côte d'Ivoire|  Football|      NULL|\n|     AGEBA Yuya|        Japan|Volleyball|      NULL|\n+---------------+-------------+----------+----------+\nonly showing top 5 rows\n\n"
     ]
    }
   ],
   "source": [
    "df_coaches.show(5)"
   ]
  },
  {
   "cell_type": "code",
   "execution_count": 0,
   "metadata": {
    "application/vnd.databricks.v1+cell": {
     "cellMetadata": {
      "byteLimit": 2048000,
      "rowLimit": 10000
     },
     "inputWidgets": {},
     "nuid": "7b994e40-02bf-4743-b1f9-66bf9dd0130a",
     "showTitle": false,
     "tableResultSettingsMap": {},
     "title": ""
    }
   },
   "outputs": [
    {
     "output_type": "stream",
     "name": "stdout",
     "output_type": "stream",
     "text": [
      "+-------------------+------------+----------+-----------+\n|              sport|female_count|male_count|total_count|\n+-------------------+------------+----------+-----------+\n|     3x3 Basketball|          32|        32|         64|\n|            Archery|          64|        64|        128|\n|Artistic Gymnastics|          98|        98|        196|\n|  Artistic Swimming|         105|         0|        105|\n|          Athletics|         969|      1072|       2041|\n+-------------------+------------+----------+-----------+\nonly showing top 5 rows\n\n"
     ]
    }
   ],
   "source": [
    "df_entry_gender.show(5)"
   ]
  },
  {
   "cell_type": "code",
   "execution_count": 0,
   "metadata": {
    "application/vnd.databricks.v1+cell": {
     "cellMetadata": {
      "byteLimit": 2048000,
      "rowLimit": 10000
     },
     "inputWidgets": {},
     "nuid": "ae1f78a5-1981-4d87-a090-f0381beb8344",
     "showTitle": false,
     "tableResultSettingsMap": {},
     "title": ""
    }
   },
   "outputs": [
    {
     "output_type": "stream",
     "name": "stdout",
     "output_type": "stream",
     "text": [
      "+-----------+--------------------+-----------+-------------+-------------+------------+--------------------+\n|rank_number|        country_name|gold_medals|silver_medals|bronze_medals|total_medals|rank_by_total_medals|\n+-----------+--------------------+-----------+-------------+-------------+------------+--------------------+\n|          1|United States of ...|         39|           41|           33|         113|                   1|\n|          2|People's Republic...|         38|           32|           18|          88|                   2|\n|          3|               Japan|         27|           14|           17|          58|                   5|\n|          4|       Great Britain|         22|           21|           22|          65|                   4|\n|          5|                 ROC|         20|           28|           23|          71|                   3|\n|          6|           Australia|         17|            7|           22|          46|                   6|\n|          7|         Netherlands|         10|           12|           14|          36|                   9|\n|          8|              France|         10|           12|           11|          33|                  10|\n|          9|             Germany|         10|           11|           16|          37|                   8|\n|         10|               Italy|         10|           10|           20|          40|                   7|\n+-----------+--------------------+-----------+-------------+-------------+------------+--------------------+\nonly showing top 10 rows\n\n"
     ]
    }
   ],
   "source": [
    "df_medals.show(10)"
   ]
  },
  {
   "cell_type": "code",
   "execution_count": 0,
   "metadata": {
    "application/vnd.databricks.v1+cell": {
     "cellMetadata": {
      "byteLimit": 2048000,
      "rowLimit": 10000
     },
     "inputWidgets": {},
     "nuid": "1f9b1c3f-5673-48fc-87d5-d6a7f3be0e2c",
     "showTitle": false,
     "tableResultSettingsMap": {},
     "title": ""
    }
   },
   "outputs": [
    {
     "output_type": "stream",
     "name": "stdout",
     "output_type": "stream",
     "text": [
      "+-------+--------------+--------------------+----------+\n|   team|         sport|        country_name|event_name|\n+-------+--------------+--------------------+----------+\n|Belgium|3x3 Basketball|             Belgium|       Men|\n|  China|3x3 Basketball|People's Republic...|       Men|\n|  China|3x3 Basketball|People's Republic...|     Women|\n| France|3x3 Basketball|              France|     Women|\n|  Italy|3x3 Basketball|               Italy|     Women|\n+-------+--------------+--------------------+----------+\nonly showing top 5 rows\n\n"
     ]
    }
   ],
   "source": [
    "df_teams.show(5)"
   ]
  },
  {
   "cell_type": "markdown",
   "metadata": {
    "application/vnd.databricks.v1+cell": {
     "cellMetadata": {
      "byteLimit": 2048000,
      "rowLimit": 10000
     },
     "inputWidgets": {},
     "nuid": "a8457833-26f2-4e34-9e24-222fed23c5c8",
     "showTitle": false,
     "tableResultSettingsMap": {},
     "title": ""
    }
   },
   "source": [
    "- <b>2:  Handle `NULL or Missing` Values </b>"
   ]
  },
  {
   "cell_type": "code",
   "execution_count": 0,
   "metadata": {
    "application/vnd.databricks.v1+cell": {
     "cellMetadata": {
      "byteLimit": 2048000,
      "rowLimit": 10000
     },
     "inputWidgets": {},
     "nuid": "5cd765ad-5413-4bb6-8a04-0ad212910fb8",
     "showTitle": false,
     "tableResultSettingsMap": {},
     "title": ""
    }
   },
   "outputs": [
    {
     "output_type": "stream",
     "name": "stdout",
     "output_type": "stream",
     "text": [
      "+--------------------+--------------------+-----------------+----------+\n|          coach_name|        country_name|            sport|event_name|\n+--------------------+--------------------+-----------------+----------+\n|     ABDELMAGID Wael|               Egypt|         Football|      NULL|\n|           ABE Junya|               Japan|       Volleyball|      NULL|\n|       ABE Katsuhiko|               Japan|       Basketball|      NULL|\n|        ADAMA Cherif|       Côte d'Ivoire|         Football|      NULL|\n|          AGEBA Yuya|               Japan|       Volleyball|      NULL|\n|AIKMAN Siegfried ...|               Japan|           Hockey|       Men|\n|       AL SAADI Kais|             Germany|           Hockey|       Men|\n|       ALAMEDA Lonni|              Canada|Baseball/Softball|  Softball|\n|     ALEKNO Vladimir|Islamic Republic ...|       Volleyball|       Men|\n|     ALEKSEEV Alexey|                 ROC|         Handball|     Women|\n+--------------------+--------------------+-----------------+----------+\nonly showing top 10 rows\n\n"
     ]
    }
   ],
   "source": [
    "df_coaches.show(10)"
   ]
  },
  {
   "cell_type": "code",
   "execution_count": 0,
   "metadata": {
    "application/vnd.databricks.v1+cell": {
     "cellMetadata": {
      "byteLimit": 2048000,
      "rowLimit": 10000
     },
     "inputWidgets": {},
     "nuid": "9b754391-29d4-4323-aa15-0f9a7b3deee8",
     "showTitle": false,
     "tableResultSettingsMap": {},
     "title": ""
    }
   },
   "outputs": [],
   "source": [
    "from pyspark.sql.functions import when, col\n",
    "\n",
    "\n",
    "# Replace NULL in \"Event\" with \"Not Specified\"\n",
    "df_coaches = df_coaches.withColumn(\n",
    "    \"event_name\",\n",
    "    when(col(\"event_name\").isNull(), \"Not Specified\").otherwise(col(\"event_name\"))\n",
    ")"
   ]
  },
  {
   "cell_type": "code",
   "execution_count": 0,
   "metadata": {
    "application/vnd.databricks.v1+cell": {
     "cellMetadata": {
      "byteLimit": 2048000,
      "rowLimit": 10000
     },
     "inputWidgets": {},
     "nuid": "a8e12d2c-1f5a-460a-b607-6d9fba654018",
     "showTitle": false,
     "tableResultSettingsMap": {},
     "title": ""
    }
   },
   "outputs": [
    {
     "output_type": "stream",
     "name": "stdout",
     "output_type": "stream",
     "text": [
      "+--------------------+--------------------+-----------------+-------------+\n|          coach_name|        country_name|            sport|   event_name|\n+--------------------+--------------------+-----------------+-------------+\n|     ABDELMAGID Wael|               Egypt|         Football|Not Specified|\n|           ABE Junya|               Japan|       Volleyball|Not Specified|\n|       ABE Katsuhiko|               Japan|       Basketball|Not Specified|\n|        ADAMA Cherif|       Côte d'Ivoire|         Football|Not Specified|\n|          AGEBA Yuya|               Japan|       Volleyball|Not Specified|\n|AIKMAN Siegfried ...|               Japan|           Hockey|          Men|\n|       AL SAADI Kais|             Germany|           Hockey|          Men|\n|       ALAMEDA Lonni|              Canada|Baseball/Softball|     Softball|\n|     ALEKNO Vladimir|Islamic Republic ...|       Volleyball|          Men|\n|     ALEKSEEV Alexey|                 ROC|         Handball|        Women|\n+--------------------+--------------------+-----------------+-------------+\nonly showing top 10 rows\n\n"
     ]
    }
   ],
   "source": [
    "df_coaches.show(10)"
   ]
  },
  {
   "cell_type": "markdown",
   "metadata": {
    "application/vnd.databricks.v1+cell": {
     "cellMetadata": {
      "byteLimit": 2048000,
      "rowLimit": 10000
     },
     "inputWidgets": {},
     "nuid": "84c88fa2-e4f8-4b01-aef9-d2c5449c0eb6",
     "showTitle": false,
     "tableResultSettingsMap": {},
     "title": ""
    }
   },
   "source": [
    "- <b>3: Remove any `duplicate` values </b>"
   ]
  },
  {
   "cell_type": "code",
   "execution_count": 0,
   "metadata": {
    "application/vnd.databricks.v1+cell": {
     "cellMetadata": {
      "byteLimit": 2048000,
      "rowLimit": 10000
     },
     "inputWidgets": {},
     "nuid": "d0d0b5a4-c5ce-4b17-8702-25b58841f9c1",
     "showTitle": false,
     "tableResultSettingsMap": {},
     "title": ""
    }
   },
   "outputs": [],
   "source": [
    "# Remove duplicates for all dataframes\n",
    "df_athlets = df_athlets.dropDuplicates()\n",
    "df_coaches = df_coaches.dropDuplicates()\n",
    "df_entry_gender = df_entry_gender.dropDuplicates()\n",
    "df_medals = df_medals.dropDuplicates()\n",
    "df_teams = df_teams.dropDuplicates()"
   ]
  },
  {
   "cell_type": "markdown",
   "metadata": {
    "application/vnd.databricks.v1+cell": {
     "cellMetadata": {
      "byteLimit": 2048000,
      "rowLimit": 10000
     },
     "inputWidgets": {},
     "nuid": "473db980-befa-45d6-94d0-9b85b30fe17f",
     "showTitle": false,
     "tableResultSettingsMap": {},
     "title": ""
    }
   },
   "source": [
    "- <b>4: Change `data types`</b>"
   ]
  },
  {
   "cell_type": "code",
   "execution_count": 0,
   "metadata": {
    "application/vnd.databricks.v1+cell": {
     "cellMetadata": {
      "byteLimit": 2048000,
      "rowLimit": 10000
     },
     "inputWidgets": {},
     "nuid": "329a0aa9-8748-4a31-92a4-2d672b2b901c",
     "showTitle": false,
     "tableResultSettingsMap": {},
     "title": ""
    }
   },
   "outputs": [
    {
     "output_type": "stream",
     "name": "stdout",
     "output_type": "stream",
     "text": [
      "+--------------------+------------+----------+-----------+\n|               sport|female_count|male_count|total_count|\n+--------------------+------------+----------+-----------+\n|       Skateboarding|          40|        40|         80|\n|        Canoe Slalom|          41|        41|         82|\n|Cycling Mountain ...|          38|        38|         76|\n|      Sport Climbing|          20|        20|         40|\n|             Fencing|         107|       108|        215|\n+--------------------+------------+----------+-----------+\nonly showing top 5 rows\n\n**************************************************\nroot\n |-- sport: string (nullable = true)\n |-- female_count: string (nullable = true)\n |-- male_count: string (nullable = true)\n |-- total_count: string (nullable = true)\n\nNone\n"
     ]
    }
   ],
   "source": [
    "df_entry_gender.show(5)\n",
    "print('*' * 50)\n",
    "print(df_entry_gender.printSchema())\n"
   ]
  },
  {
   "cell_type": "code",
   "execution_count": 0,
   "metadata": {
    "application/vnd.databricks.v1+cell": {
     "cellMetadata": {
      "byteLimit": 2048000,
      "rowLimit": 10000
     },
     "inputWidgets": {},
     "nuid": "0aedf16a-1a90-4f71-acbf-fd7a1a18b023",
     "showTitle": false,
     "tableResultSettingsMap": {},
     "title": ""
    }
   },
   "outputs": [
    {
     "output_type": "stream",
     "name": "stdout",
     "output_type": "stream",
     "text": [
      "+-----------+------------+-----------+-------------+-------------+------------+--------------------+\n|rank_number|country_name|gold_medals|silver_medals|bronze_medals|total_medals|rank_by_total_medals|\n+-----------+------------+-----------+-------------+-------------+------------+--------------------+\n|         48|       India|          1|            2|            4|           7|                  33|\n|         46|   Venezuela|          1|            3|            0|           4|                  47|\n|         53|     Austria|          1|            1|            5|           7|                  33|\n+-----------+------------+-----------+-------------+-------------+------------+--------------------+\nonly showing top 3 rows\n\n**************************************************\nroot\n |-- rank_number: string (nullable = true)\n |-- country_name: string (nullable = true)\n |-- gold_medals: string (nullable = true)\n |-- silver_medals: string (nullable = true)\n |-- bronze_medals: string (nullable = true)\n |-- total_medals: string (nullable = true)\n |-- rank_by_total_medals: string (nullable = true)\n\nNone\n"
     ]
    }
   ],
   "source": [
    "df_medals.show(3)\n",
    "print('*' * 50)\n",
    "print(df_medals.printSchema())\n"
   ]
  },
  {
   "cell_type": "code",
   "execution_count": 0,
   "metadata": {
    "application/vnd.databricks.v1+cell": {
     "cellMetadata": {
      "byteLimit": 2048000,
      "rowLimit": 10000
     },
     "inputWidgets": {},
     "nuid": "19676f8b-583f-4a28-b342-921a32d9ce55",
     "showTitle": false,
     "tableResultSettingsMap": {},
     "title": ""
    }
   },
   "outputs": [],
   "source": [
    "from pyspark.sql.types import IntegerType\n",
    "\n",
    "# Entry Gender\n",
    "df_entry_gender = df_entry_gender.withColumn(\"female_count\", df_entry_gender[\"female_count\"].cast(IntegerType())) \\\n",
    "       .withColumn(\"male_count\", df_entry_gender[\"male_count\"].cast(IntegerType())) \\\n",
    "       .withColumn(\"total_count\", df_entry_gender[\"total_count\"].cast(IntegerType()))\n",
    "\n",
    "# Medals\n",
    "columns_to_convert = [\"rank_number\", \"gold_medals\", \"silver_medals\", \"bronze_medals\", \"total_medals\", \"rank_by_total_medals\"]\n",
    "\n",
    "for col in columns_to_convert:\n",
    "    df_medals = df_medals.withColumn(col, df_medals[col].cast(IntegerType()))"
   ]
  },
  {
   "cell_type": "code",
   "execution_count": 0,
   "metadata": {
    "application/vnd.databricks.v1+cell": {
     "cellMetadata": {
      "byteLimit": 2048000,
      "rowLimit": 10000
     },
     "inputWidgets": {},
     "nuid": "5e6e2e6f-7bc8-47b8-a627-d03a3fe93831",
     "showTitle": false,
     "tableResultSettingsMap": {},
     "title": ""
    }
   },
   "outputs": [
    {
     "output_type": "stream",
     "name": "stdout",
     "output_type": "stream",
     "text": [
      "root\n |-- sport: string (nullable = true)\n |-- female_count: integer (nullable = true)\n |-- male_count: integer (nullable = true)\n |-- total_count: integer (nullable = true)\n\nNone\n**************************************************\nroot\n |-- rank_number: integer (nullable = true)\n |-- country_name: string (nullable = true)\n |-- gold_medals: integer (nullable = true)\n |-- silver_medals: integer (nullable = true)\n |-- bronze_medals: integer (nullable = true)\n |-- total_medals: integer (nullable = true)\n |-- rank_by_total_medals: integer (nullable = true)\n\nNone\n"
     ]
    }
   ],
   "source": [
    "print(df_entry_gender.printSchema())\n",
    "print('*' * 50)\n",
    "print(df_medals.printSchema())"
   ]
  },
  {
   "cell_type": "markdown",
   "metadata": {
    "application/vnd.databricks.v1+cell": {
     "cellMetadata": {
      "byteLimit": 2048000,
      "rowLimit": 10000
     },
     "inputWidgets": {},
     "nuid": "23a763c8-adc5-42b8-89b1-829a2f7d2a59",
     "showTitle": false,
     "tableResultSettingsMap": {},
     "title": ""
    }
   },
   "source": [
    "- <b>5: Add `Country Codes`</b>"
   ]
  },
  {
   "cell_type": "code",
   "execution_count": 0,
   "metadata": {
    "application/vnd.databricks.v1+cell": {
     "cellMetadata": {
      "byteLimit": 2048000,
      "rowLimit": 10000
     },
     "inputWidgets": {},
     "nuid": "0aab00d5-9f9e-4c6d-a7b5-1cd28e0fe6bb",
     "showTitle": false,
     "tableResultSettingsMap": {},
     "title": ""
    }
   },
   "outputs": [
    {
     "output_type": "stream",
     "name": "stdout",
     "output_type": "stream",
     "text": [
      "Requirement already satisfied: pycountry in /local_disk0/.ephemeral_nfs/envs/pythonEnv-a1a71da7-6dc7-4f29-b846-b973d2ccc317/lib/python3.11/site-packages (24.6.1)\n\u001B[43mNote: you may need to restart the kernel using %restart_python or dbutils.library.restartPython() to use updated packages.\u001B[0m\n"
     ]
    }
   ],
   "source": [
    "!pip install pycountry"
   ]
  },
  {
   "cell_type": "code",
   "execution_count": 0,
   "metadata": {
    "application/vnd.databricks.v1+cell": {
     "cellMetadata": {
      "byteLimit": 2048000,
      "rowLimit": 10000
     },
     "inputWidgets": {},
     "nuid": "a935de63-1e71-4536-9e27-835493bc0422",
     "showTitle": false,
     "tableResultSettingsMap": {},
     "title": ""
    }
   },
   "outputs": [],
   "source": [
    "rename_countries = {\n",
    "    \"Chinese Taipei\": \"Taiwan\",\n",
    "    \"Great Britain\": \"United Kingdom\",\n",
    "    \"Republic of Korea\": \"South Korea\",\n",
    "    \"Turkey\": \"Türkiye\",\n",
    "    \"Hong Kong, China\": \"Hong Kong\"\n",
    "}\n",
    "\n",
    "\n",
    "countries = [\n",
    "    \"Belgium\", \n",
    "    \"People's Republic of China\", \n",
    "    \"France\", \n",
    "    \"Italy\", \n",
    "    \"Japan\", \n",
    "    \"Latvia\", \n",
    "    \"Mongolia\", \n",
    "    \"Netherlands\", \n",
    "    \"Poland\", \n",
    "    \"ROC\", \n",
    "    \"Romania\", \n",
    "    \"Serbia\", \n",
    "    \"United States of America\", \n",
    "    \"Australia\", \n",
    "    \"Bangladesh\", \n",
    "    \"Belarus\", \n",
    "    \"Brazil\", \n",
    "    \"Canada\", \n",
    "    \"Chinese Taipei\", \n",
    "    \"Colombia\", \n",
    "    \"Egypt\", \n",
    "    \"Germany\", \n",
    "    \"Great Britain\", \n",
    "    \"India\", \n",
    "    \"Indonesia\", \n",
    "    \"Kazakhstan\", \n",
    "    \"Malaysia\", \n",
    "    \"Mexico\", \n",
    "    \"Republic of Moldova\", \n",
    "    \"Republic of Korea\", \n",
    "    \"Spain\", \n",
    "    \"Tunisia\", \n",
    "    \"Turkey\", \n",
    "    \"Ukraine\", \n",
    "    \"Vietnam\", \n",
    "    \"Switzerland\", \n",
    "    \"Austria\", \n",
    "    \"Greece\", \n",
    "    \"Israel\", \n",
    "    \"Liechtenstein\", \n",
    "    \"South Africa\", \n",
    "    \"Bahamas\", \n",
    "    \"Botswana\", \n",
    "    \"Cuba\", \n",
    "    \"Czech Republic\", \n",
    "    \"Denmark\", \n",
    "    \"Dominican Republic\", \n",
    "    \"Ecuador\", \n",
    "    \"Ghana\", \n",
    "    \"Ireland\", \n",
    "    \"Jamaica\", \n",
    "    \"Nigeria\", \n",
    "    \"Trinidad and Tobago\", \n",
    "    \"Argentina\", \n",
    "    \"Islamic Republic of Iran\", \n",
    "    \"Puerto Rico\", \n",
    "    \"Slovenia\", \n",
    "    \"Chile\", \n",
    "    \"Kenya\", \n",
    "    \"Morocco\", \n",
    "    \"Norway\", \n",
    "    \"Qatar\", \n",
    "    \"Hong Kong, China\", \n",
    "    \"Lithuania\", \n",
    "    \"New Zealand\", \n",
    "    \"Estonia\", \n",
    "    \"Hungary\", \n",
    "    \"Côte d'Ivoire\", \n",
    "    \"Honduras\", \n",
    "    \"Saudi Arabia\", \n",
    "    \"Sweden\", \n",
    "    \"Zambia\", \n",
    "    \"Angola\", \n",
    "    \"Bahrain\", \n",
    "    \"Montenegro\", \n",
    "    \"Portugal\", \n",
    "    \"Azerbaijan\", \n",
    "    \"Bulgaria\", \n",
    "    \"Uzbekistan\", \n",
    "    \"Fiji\", \n",
    "    \"Croatia\", \n",
    "    \"Singapore\", \n",
    "    \"Slovakia\", \n",
    "    \"Venezuela\"\n",
    "]\n"
   ]
  },
  {
   "cell_type": "code",
   "execution_count": 0,
   "metadata": {
    "application/vnd.databricks.v1+cell": {
     "cellMetadata": {
      "byteLimit": 2048000,
      "rowLimit": 10000
     },
     "inputWidgets": {},
     "nuid": "38e31156-2cdc-4128-b9d9-f29cba10c9ed",
     "showTitle": false,
     "tableResultSettingsMap": {},
     "title": ""
    }
   },
   "outputs": [
    {
     "output_type": "stream",
     "name": "stdout",
     "output_type": "stream",
     "text": [
      "Belgium: BEL\nPeople's Republic of China: CHN\nFrance: FRA\nItaly: ITA\nJapan: JPN\nLatvia: LVA\nMongolia: MNG\nNetherlands: NLD\nPoland: POL\nROC: RUS\nRomania: ROU\nSerbia: SRB\nUnited States of America: USA\nAustralia: AUS\nBangladesh: BGD\nBelarus: BLR\nBrazil: BRA\nCanada: CAN\nChinese Taipei: TWN\nColombia: COL\nEgypt: EGY\nGermany: DEU\nGreat Britain: GBR\nIndia: IND\nIndonesia: IDN\nKazakhstan: KAZ\nMalaysia: MYS\nMexico: MEX\nRepublic of Moldova: MDA\nRepublic of Korea: KOR\nSpain: ESP\nTunisia: TUN\nTurkey: TUR\nUkraine: UKR\nVietnam: VNM\nSwitzerland: CHE\nAustria: AUT\nGreece: GRC\nIsrael: ISR\nLiechtenstein: LIE\nSouth Africa: ZAF\nBahamas: BHS\nBotswana: BWA\nCuba: CUB\nCzech Republic: CZE\nDenmark: DNK\nDominican Republic: DOM\nEcuador: ECU\nGhana: GHA\nIreland: IRL\nJamaica: JAM\nNigeria: NGA\nTrinidad and Tobago: TTO\nArgentina: ARG\nIslamic Republic of Iran: IRN\nPuerto Rico: PRI\nSlovenia: SVN\nChile: CHL\nKenya: KEN\nMorocco: MAR\nNorway: NOR\nQatar: QAT\nHong Kong, China: HKG\nLithuania: LTU\nNew Zealand: NZL\nEstonia: EST\nHungary: HUN\nCôte d'Ivoire: CIV\nHonduras: HND\nSaudi Arabia: SAU\nSweden: SWE\nZambia: ZMB\nAngola: AGO\nBahrain: BHR\nMontenegro: MNE\nPortugal: PRT\nAzerbaijan: AZE\nBulgaria: BGR\nUzbekistan: UZB\nFiji: FJI\nCroatia: HRV\nSingapore: SGP\nSlovakia: SVK\nVenezuela: VEN\n"
     ]
    }
   ],
   "source": [
    "import pycountry\n",
    "\n",
    "def get_country_code(country_name):\n",
    "    try:\n",
    "        country = pycountry.countries.lookup(country_name)\n",
    "        return country.alpha_3\n",
    "    except LookupError:\n",
    "        return None\n",
    "    \n",
    "# Map country names to their codes\n",
    "country_code_mapping = {}\n",
    "for country in countries:\n",
    "    if country == \"ROC\":\n",
    "        country_code_mapping[country] = \"RUS\"\n",
    "    elif country in rename_countries.keys():\n",
    "        country_code = get_country_code(rename_countries[country])\n",
    "        country_code_mapping[country] = country_code\n",
    "    else:\n",
    "        country_code = get_country_code(country)\n",
    "        country_code_mapping[country] = country_code\n",
    "    \n",
    "\n",
    "# print all \n",
    "for country, code in country_code_mapping.items():\n",
    "    print(f\"{country}: {code}\")"
   ]
  },
  {
   "cell_type": "code",
   "execution_count": 0,
   "metadata": {
    "application/vnd.databricks.v1+cell": {
     "cellMetadata": {
      "byteLimit": 2048000,
      "rowLimit": 10000
     },
     "inputWidgets": {},
     "nuid": "292151dd-7ea9-4e67-a56b-6baaa3ad909f",
     "showTitle": false,
     "tableResultSettingsMap": {},
     "title": ""
    }
   },
   "outputs": [
    {
     "output_type": "stream",
     "name": "stdout",
     "output_type": "stream",
     "text": [
      "+-------------+-------------------+--------------------+------------+\n|         team|              sport|        country_name|  event_name|\n+-------------+-------------------+--------------------+------------+\n|Great Britain|Artistic Gymnastics|       Great Britain|Women's Team|\n|      Nigeria|         Basketball|             Nigeria|       Women|\n|  Netherlands|           Handball|         Netherlands|       Women|\n|        Japan|         Volleyball|               Japan|         Men|\n|United States|            Archery|United States of ...|Women's Team|\n+-------------+-------------------+--------------------+------------+\nonly showing top 5 rows\n\n"
     ]
    }
   ],
   "source": [
    "df_teams.show(5)"
   ]
  },
  {
   "cell_type": "code",
   "execution_count": 0,
   "metadata": {
    "application/vnd.databricks.v1+cell": {
     "cellMetadata": {
      "byteLimit": 2048000,
      "rowLimit": 10000
     },
     "inputWidgets": {},
     "nuid": "bc1db846-c579-4004-8682-f7b99cfdc34a",
     "showTitle": false,
     "tableResultSettingsMap": {},
     "title": ""
    }
   },
   "outputs": [],
   "source": [
    "\n",
    "from pyspark.sql.functions import udf\n",
    "from pyspark.sql.types import StringType\n",
    "\n",
    "\n",
    "# Define a Python function for mapping\n",
    "def map_country_to_code(country_name):\n",
    "    return country_code_mapping.get(country_name, None)\n",
    "\n",
    "# Register the Python function as a UDF\n",
    "map_country_to_code_udf = udf(map_country_to_code, StringType())\n",
    "\n",
    "# Use the UDF to create a new column\n",
    "df_teams = df_teams.withColumn(\"country_code\", map_country_to_code_udf(df_teams[\"country_name\"]))"
   ]
  },
  {
   "cell_type": "code",
   "execution_count": 0,
   "metadata": {
    "application/vnd.databricks.v1+cell": {
     "cellMetadata": {
      "byteLimit": 2048000,
      "rowLimit": 10000
     },
     "inputWidgets": {},
     "nuid": "7f70ae1d-e494-44d6-a285-0c10e623ee69",
     "showTitle": false,
     "tableResultSettingsMap": {},
     "title": ""
    }
   },
   "outputs": [
    {
     "output_type": "stream",
     "name": "stdout",
     "output_type": "stream",
     "text": [
      "+-------------+-------------------+--------------------+------------+------------+\n|         team|              sport|        country_name|  event_name|country_code|\n+-------------+-------------------+--------------------+------------+------------+\n|Great Britain|Artistic Gymnastics|       Great Britain|Women's Team|         GBR|\n|      Nigeria|         Basketball|             Nigeria|       Women|         NGA|\n|  Netherlands|           Handball|         Netherlands|       Women|         NLD|\n|        Japan|         Volleyball|               Japan|         Men|         JPN|\n|United States|            Archery|United States of ...|Women's Team|         USA|\n+-------------+-------------------+--------------------+------------+------------+\nonly showing top 5 rows\n\n"
     ]
    }
   ],
   "source": [
    "df_teams.show(5)"
   ]
  },
  {
   "cell_type": "markdown",
   "metadata": {
    "application/vnd.databricks.v1+cell": {
     "cellMetadata": {
      "byteLimit": 2048000,
      "rowLimit": 10000
     },
     "inputWidgets": {},
     "nuid": "fd8b9c9c-4171-4f89-b09b-f5d9d68a4f05",
     "showTitle": false,
     "tableResultSettingsMap": {},
     "title": ""
    }
   },
   "source": [
    "### 6: Write Transformed Data Back to ADLS (Storage Account)"
   ]
  },
  {
   "cell_type": "code",
   "execution_count": 0,
   "metadata": {
    "application/vnd.databricks.v1+cell": {
     "cellMetadata": {
      "byteLimit": 2048000,
      "rowLimit": 10000
     },
     "inputWidgets": {},
     "nuid": "17fb09d6-f078-4b48-ae8b-e1e4c1f52961",
     "showTitle": false,
     "tableResultSettingsMap": {},
     "title": ""
    }
   },
   "outputs": [],
   "source": [
    "df_athlets.write.mode(\"overwrite\").parquet(\"mnt/tokyo-olympics-data/transformed_data/athletes\")\n",
    "df_coaches.write.mode(\"overwrite\").parquet(\"mnt/tokyo-olympics-data/transformed_data/coaches\")\n",
    "df_entry_gender.write.mode(\"overwrite\").parquet(\"mnt/tokyo-olympics-data/transformed_data/entry_gender\")\n",
    "df_medals.write.mode(\"overwrite\").parquet(\"mnt/tokyo-olympics-data/transformed_data/medals\")\n",
    "df_teams.write.mode(\"overwrite\").parquet(\"mnt/tokyo-olympics-data/transformed_data/teams\")"
   ]
  }
 ],
 "metadata": {
  "application/vnd.databricks.v1+notebook": {
   "computePreferences": null,
   "dashboards": [],
   "environmentMetadata": {
    "base_environment": "",
    "client": "1"
   },
   "language": "python",
   "notebookMetadata": {
    "mostRecentlyExecutedCommandWithImplicitDF": {
     "commandId": -1,
     "dataframes": [
      "_sqldf"
     ]
    },
    "pythonIndentUnit": 4
   },
   "notebookName": "olympics_data_transformations",
   "widgets": {}
  },
  "language_info": {
   "name": "python"
  }
 },
 "nbformat": 4,
 "nbformat_minor": 0
}